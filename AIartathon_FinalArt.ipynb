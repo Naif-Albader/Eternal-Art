{
  "nbformat": 4,
  "nbformat_minor": 0,
  "metadata": {
    "colab": {
      "name": "AIartathon2 (2).ipynb",
      "provenance": [],
      "collapsed_sections": [],
      "toc_visible": true,
      "machine_shape": "hm"
    },
    "kernelspec": {
      "name": "python3",
      "display_name": "Python 3"
    },
    "language_info": {
      "name": "python"
    },
    "accelerator": "GPU"
  },
  "cells": [
    {
      "cell_type": "markdown",
      "metadata": {
        "id": "v6hHPWCcUjg-"
      },
      "source": [
        "## **STYLEGAN2 setup** "
      ]
    },
    {
      "cell_type": "code",
      "metadata": {
        "id": "6j4yUkQ0MzI6"
      },
      "source": [
        "%tensorflow_version 1.x\n",
        "from numpy import random\n",
        "!nvidia-smi\n",
        "import os\n",
        "from google.colab import drive\n",
        "from pathlib import Path\n",
        "content_path = Path('/').absolute() / 'content'\n",
        "drive_path = content_path / 'drive'\n",
        "drive.mount(str(drive_path))"
      ],
      "execution_count": null,
      "outputs": []
    },
    {
      "cell_type": "code",
      "metadata": {
        "id": "RbMq78sBNFKe"
      },
      "source": [
        "if os.path.isdir(\"/content/drive/My Drive/style_gan2_ada\"):\n",
        "    %cd \"/content/drive/My Drive/style_gan2_ada/stylegan2-ada\"\n",
        "else:\n",
        "    %cd \"/content/drive/My Drive/\"\n",
        "    !mkdir style_gan2_ada\n",
        "    %cd style_gan2_ada\n",
        "    !git clone https://github.com/dvschultz/stylegan2-ada\n",
        "    %cd stylegan2-ada\n",
        "    !mkdir downloads\n",
        "    !mkdir datasets"
      ],
      "execution_count": null,
      "outputs": []
    },
    {
      "cell_type": "code",
      "metadata": {
        "id": "_cN_LmcmsNN-"
      },
      "source": [
        "%cd \"/content/drive/My Drive/style_gan2_ada/stylegan2-ada\""
      ],
      "execution_count": null,
      "outputs": []
    },
    {
      "cell_type": "code",
      "metadata": {
        "id": "lSfffCalNG2a"
      },
      "source": [
        "%cd \"/content/drive/My Drive/style_gan2_ada/stylegan2-ada\"\n",
        "!git config --global user.name \"AROY13-PRAETORIAN\"\n",
        "!git config --global user.email \"abhigyan.roy2019@vitstudent.ac.in\"\n",
        "!git fetch origin\n",
        "!git checkout origin/main -- train.py"
      ],
      "execution_count": null,
      "outputs": []
    },
    {
      "cell_type": "code",
      "metadata": {
        "id": "679KIwSXpH__"
      },
      "source": [
        "from google.colab import files\n",
        "files.upload()"
      ],
      "execution_count": null,
      "outputs": []
    },
    {
      "cell_type": "code",
      "metadata": {
        "id": "kn7N7ABlpauK"
      },
      "source": [
        "!pip install -q kaggle"
      ],
      "execution_count": null,
      "outputs": []
    },
    {
      "cell_type": "code",
      "metadata": {
        "id": "UDprP8HSqKEm"
      },
      "source": [
        "!mkdir -p ~/.kaggle\n",
        "!cp kaggle.json ~/.kaggle/"
      ],
      "execution_count": null,
      "outputs": []
    },
    {
      "cell_type": "code",
      "metadata": {
        "id": "R_6eAwsqqPKL"
      },
      "source": [
        "! kaggle datasets download -d 'ikarus777/best-artworks-of-all-time'"
      ],
      "execution_count": null,
      "outputs": []
    },
    {
      "cell_type": "code",
      "metadata": {
        "id": "dKJIo3AJrzsp"
      },
      "source": [
        "!mkdir -p ~/.kaggle"
      ],
      "execution_count": null,
      "outputs": []
    },
    {
      "cell_type": "markdown",
      "metadata": {
        "id": "eDwox4-DSoVA"
      },
      "source": [
        "# **DATASET TO .tfrecords**"
      ]
    },
    {
      "cell_type": "code",
      "metadata": {
        "id": "Ot59nIMLNqox"
      },
      "source": [
        "zip_path = \"/content/drive/MyDrive/style_gan2_ada/stylegan2-ada/best-artworks-of-all-time.zip\"\n",
        "!unzip {zip_path} -d /content/dataset/"
      ],
      "execution_count": null,
      "outputs": []
    },
    {
      "cell_type": "code",
      "metadata": {
        "id": "xzaRBgBOlyS1"
      },
      "source": [
        "!mv /content/dataset/images/images/Vincent_van_Gogh/* /content/dataset_art"
      ],
      "execution_count": null,
      "outputs": []
    },
    {
      "cell_type": "code",
      "metadata": {
        "id": "mC4CtTzOnf-Q"
      },
      "source": [
        "import glob\n",
        "tifCounter = len(glob.glob1('/content/dataset_art',\"*\"))\n",
        "tifCounter"
      ],
      "execution_count": null,
      "outputs": []
    },
    {
      "cell_type": "code",
      "metadata": {
        "id": "9sPuyVPwwRK3"
      },
      "source": [
        "|!mkdir /content/drive/MyDrive/style_gan2_ada/stylegan2-ada/art_resized/"
      ],
      "execution_count": null,
      "outputs": []
    },
    {
      "cell_type": "code",
      "metadata": {
        "id": "6qW7GbhFKPLE"
      },
      "source": [
        "import cv2\n",
        "import os\n",
        "\n",
        "path = '/content/dataset_art/'\n",
        "\n",
        "\n",
        "im_size = 512  \n",
        "\n",
        "images = []\n",
        "\n",
        "for file in os.listdir(path):\n",
        "        img = cv2.imread(path + '/' + file)  \n",
        "        img = cv2.resize(img, (im_size, im_size))\n",
        "        images.append(img)\n",
        "        cv2.imwrite('/content/dataset/Abstract_gallery/art_resized/'+str(file)+'_resized.jpg', img)\n"
      ],
      "execution_count": null,
      "outputs": []
    },
    {
      "cell_type": "code",
      "metadata": {
        "id": "w5QxUh6pOJP5"
      },
      "source": [
        "dataset_path = \"/content/dataset/Abstract_gallery/art_resized/\"\n",
        "dataset_name = \"our_art\" \n",
        "\n",
        "!python dataset_tool.py create_from_images /content/custom_dataset/{dataset_name} {dataset_path}"
      ],
      "execution_count": null,
      "outputs": []
    },
    {
      "cell_type": "markdown",
      "metadata": {
        "id": "15-4MkswUdu6"
      },
      "source": [
        "# **TRAINING**"
      ]
    },
    {
      "cell_type": "code",
      "metadata": {
        "id": "5OR6GmKHk6ca"
      },
      "source": [
        "import pickle"
      ],
      "execution_count": null,
      "outputs": []
    },
    {
      "cell_type": "code",
      "metadata": {
        "id": "_FK3CwZl2gnE"
      },
      "source": [
        "dataset_path = \"/content/drive/MyDrive/custom_dataset\" \n",
        "dataset_name = \"our_art\" "
      ],
      "execution_count": null,
      "outputs": []
    },
    {
      "cell_type": "code",
      "metadata": {
        "id": "5u0MOBvRPX6D"
      },
      "source": [
        "dataset_name = \"our_art\"\n",
        "snapshot_count = 2\n",
        "mirrored = True\n",
        "mirroredY = False\n",
        "metric_list = None\n",
        "augs = \"bgc\"\n",
        "resume_from = \"/content/drive/MyDrive/style_gan2_ada/results/00006-our_art-mirror-auto1-bgc-resumecustom/network-snapshot-000032.pkl\"\n",
        "!python train.py --outdir /content/drive/MyDrive/style_gan2_ada/results --snap={snapshot_count} --data=/content/drive/MyDrive/custom_dataset/{dataset_name} --augpipe={augs} --mirror={mirrored} --mirrory={mirroredY} --metrics={metric_list} --resume={resume_from} --augpipe=\"bgc\""
      ],
      "execution_count": null,
      "outputs": []
    },
    {
      "cell_type": "markdown",
      "metadata": {
        "id": "wrO7FZmiAkqe"
      },
      "source": [
        "# **IMAGE GENERATION FROM PRETRAINED MODEL**"
      ]
    },
    {
      "cell_type": "code",
      "metadata": {
        "id": "guftKVn0XSPa"
      },
      "source": [
        "%pip install opensimplex\n",
        "output_path = drive_path / 'MyDrive' / 'stylegan2_ada_output'\n",
        "output_path_images = output_path / 'images'\n",
        "stylegan2_main_path = drive_path / 'MyDrive' / 'style_gan2_ada' / 'stylegan2-ada'\n",
        "if not output_path.is_dir():\n",
        "    %mkdir \"{output_path}\"\n",
        "output_path_images = output_path / 'images'\n",
        "if not output_path_images.is_dir():\n",
        "    %mkdir \"{output_path_images}\""
      ],
      "execution_count": null,
      "outputs": []
    },
    {
      "cell_type": "code",
      "metadata": {
        "id": "wE4iODKppFiR"
      },
      "source": [
        "output_path_images"
      ],
      "execution_count": null,
      "outputs": []
    },
    {
      "cell_type": "markdown",
      "metadata": {
        "id": "mKczq5fsU_KV"
      },
      "source": [
        "# **GENERATE IMAGES**"
      ]
    },
    {
      "cell_type": "code",
      "metadata": {
        "id": "c9GG-49lPZt2"
      },
      "source": [
        "seed_init = random.randint(10000)\n",
        "nbr_images = 100\n",
        "\n",
        "generation_from = '/content/drive/MyDrive/style_gan2_ada/results/00000-our_art-mirror-auto1-bgc-resumecustom/network-snapshot-000112.pkl' # path to final trained model\n",
        "\n",
        "!python \"{stylegan2_main_path / 'generate.py'}\" generate-images \\\n",
        "    --outdir=\"{output_path_images}\" --trunc=0.7 \\\n",
        "    --seeds={seed_init}-{seed_init+nbr_images-1} --create-grid \\\n",
        "    --network={generation_from}"
      ],
      "execution_count": null,
      "outputs": []
    },
    {
      "cell_type": "markdown",
      "metadata": {
        "id": "Tlqi4dl7VFLf"
      },
      "source": [
        "# **LATENT SPACE EXPLORATION**"
      ]
    },
    {
      "cell_type": "code",
      "metadata": {
        "id": "BhCL-fX-rtkN"
      },
      "source": [
        "output_path"
      ],
      "execution_count": null,
      "outputs": []
    },
    {
      "cell_type": "code",
      "metadata": {
        "id": "oOpw7v1jPlFX"
      },
      "source": [
        "walk_types = ['line', 'sphere', 'noiseloop', 'circularloop']\n",
        "latent_walk_output = output_path\n",
        "explored_network =  \"/content/drive/MyDrive/style_gan2_ada/results/00000-our_art-mirror-auto1-bgc-resumecustom/network-snapshot-000112.pkl\"  # path to final trained model\n",
        "\n",
        "seeds = [random.randint(20000) for i in range(20)]\n",
        "print(','.join(map(str, seeds)))\n",
        "print(\"Base seeds:\", seeds)\n",
        "!python \"{stylegan2_main_path / 'generate.py'}\" generate-latent-walk --network=\"{explored_network}\" \\\n",
        "    --outdir=\"{latent_walk_output}\" --trunc=0.7 --walk-type=\"{walk_types[2]}\" \\\n",
        "    --seeds={','.join(map(str, seeds))} --frames {len(seeds)*20} #generates 400 frames"
      ],
      "execution_count": null,
      "outputs": []
    },
    {
      "cell_type": "markdown",
      "metadata": {
        "id": "EH1kc9UJALR-"
      },
      "source": [
        "# **ESRGAN UPSCALING**"
      ]
    },
    {
      "cell_type": "code",
      "metadata": {
        "id": "zwNlIWyGg-In"
      },
      "source": [
        "frames = \"/content/drive/MyDrive/stylegan2_ada_output/frames\"\n",
        "%cd {frames}\n",
        "print(\"Time                     GPU        Used      Total\")\n",
        "!nvidia-smi --query-gpu=timestamp,name,memory.used,memory.free --format=csv,noheader\n",
        "import gc\n",
        "import torch\n",
        "gc.collect()\n",
        "torch.cuda.empty_cache()\n",
        "!nvidia-smi --query-gpu=timestamp,name,memory.used,memory.free --format=csv,noheader"
      ],
      "execution_count": null,
      "outputs": []
    },
    {
      "cell_type": "code",
      "metadata": {
        "id": "qDAib5rvknFx"
      },
      "source": [
        "!git clone https://github.com/xinntao/Real-ESRGAN.git\n",
        "%cd Real-ESRGAN\n",
        "!pip install basicsr\n",
        "!pip install facexlib\n",
        "!pip install gfpgan\n",
        "!pip install -r requirements.txt\n",
        "!python setup.py develop\n",
        "!wget https://github.com/xinntao/Real-ESRGAN/releases/download/v0.1.0/RealESRGAN_x4plus.pth -P experiments/pretrained_models"
      ],
      "execution_count": null,
      "outputs": []
    },
    {
      "cell_type": "code",
      "metadata": {
        "id": "6IMR4_8ykrGy"
      },
      "source": [
        "#@title\n",
        "import os\n",
        "from google.colab import files\n",
        "import shutil\n",
        "upload_folder = 'upload'\n",
        "result_folder = 'results'\n",
        "if os.path.isdir(upload_folder):\n",
        "    shutil.rmtree(upload_folder)\n",
        "if os.path.isdir(result_folder):\n",
        "    shutil.rmtree(result_folder)\n",
        "os.mkdir(upload_folder)\n",
        "os.mkdir(result_folder)"
      ],
      "execution_count": null,
      "outputs": []
    },
    {
      "cell_type": "code",
      "metadata": {
        "id": "l_Ga5z-Qk3zV"
      },
      "source": [
        "#@title\n",
        "%cd {frames}\n",
        "final_output = [i for i in glob.glob(\"*.png\")]\n",
        "list_of_genrated_frames=[]\n",
        "output = frames\n",
        "for i in final_output:\n",
        "  abc = output+\"/\" + i \n",
        "  list_of_genrated_frames.append(abc)\n",
        "print(list_of_genrated_frames)"
      ],
      "execution_count": null,
      "outputs": []
    },
    {
      "cell_type": "code",
      "metadata": {
        "id": "6pjT3HjylxdE"
      },
      "source": [
        "move_for_upscaling = frames+\"/\"+\"Real-ESRGAN/upload\"\n",
        "for i in list_of_genrated_frames:\n",
        "  shutil.move(i, move_for_upscaling)"
      ],
      "execution_count": null,
      "outputs": []
    },
    {
      "cell_type": "code",
      "metadata": {
        "id": "ze_cSyl3mCJF"
      },
      "source": [
        "#@title\n",
        "%cd Real-ESRGAN\n",
        "!python inference_realesrgan.py --model_path experiments/pretrained_models/RealESRGAN_x4plus.pth --input upload --netscale 4 --outscale 3.5 --half --face_enhance"
      ],
      "execution_count": null,
      "outputs": []
    },
    {
      "cell_type": "markdown",
      "metadata": {
        "id": "VpaPgq9Y7_s_"
      },
      "source": [
        "# **Generate your video again**"
      ]
    },
    {
      "cell_type": "code",
      "metadata": {
        "id": "Lx_prm8T2fCP"
      },
      "source": [
        "import cv2\n",
        "import numpy as np\n",
        "import glob\n",
        "img_array = []\n",
        "for filename in glob.glob('/content/drive/MyDrive/stylegan2_ada_output/frames/Real-ESRGAN/results/*.png'):\n",
        "    img = cv2.imread(filename)\n",
        "    height, width, layers = img.shape\n",
        "    size = (width,height)\n",
        "    img_array.append(img)\n",
        " \n",
        "name = 'upscaled_video2' \n",
        "name = name+'.avi'\n",
        "out = cv2.VideoWriter(name,cv2.VideoWriter_fourcc(*'DIVX'), 15, size)\n",
        " \n",
        "for i in range(len(img_array)):\n",
        "    out.write(img_array[i])\n",
        "out.release()"
      ],
      "execution_count": null,
      "outputs": []
    }
  ]
}